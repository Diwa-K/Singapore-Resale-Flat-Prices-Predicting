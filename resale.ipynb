{
 "cells": [
  {
   "cell_type": "code",
   "execution_count": 1,
   "metadata": {},
   "outputs": [],
   "source": [
    "import pandas as pd\n",
    "import numpy as np\n",
    "import matplotlib.pyplot as plt\n",
    "from sklearn.preprocessing import LabelEncoder\n",
    "import re\n",
    "from sklearn import metrics"
   ]
  },
  {
   "cell_type": "code",
   "execution_count": 2,
   "metadata": {},
   "outputs": [],
   "source": [
    "df1 = pd.read_csv(r\"Resale Flat Prices 1990 - 1999.CSV\")\n",
    "df2 = pd.read_csv(r\"Resale Flat Prices  2000 - Feb 2012.CSV\")\n",
    "df3 = pd.read_csv(r\"Resale Flat Prices 2012 to Dec 2014.CSV\")\n",
    "df4 = pd.read_csv(r\"Resale Flat Prices 2015 to Dec 2016.CSV\")\n",
    "df5 = pd.read_csv(r\"Resale flat prices 2017 onwards.CSV\")\n"
   ]
  },
  {
   "cell_type": "code",
   "execution_count": 3,
   "metadata": {},
   "outputs": [
    {
     "data": {
      "text/html": [
       "<div>\n",
       "<style scoped>\n",
       "    .dataframe tbody tr th:only-of-type {\n",
       "        vertical-align: middle;\n",
       "    }\n",
       "\n",
       "    .dataframe tbody tr th {\n",
       "        vertical-align: top;\n",
       "    }\n",
       "\n",
       "    .dataframe thead th {\n",
       "        text-align: right;\n",
       "    }\n",
       "</style>\n",
       "<table border=\"1\" class=\"dataframe\">\n",
       "  <thead>\n",
       "    <tr style=\"text-align: right;\">\n",
       "      <th></th>\n",
       "      <th>month</th>\n",
       "      <th>town</th>\n",
       "      <th>flat_type</th>\n",
       "      <th>block</th>\n",
       "      <th>street_name</th>\n",
       "      <th>storey_range</th>\n",
       "      <th>floor_area_sqm</th>\n",
       "      <th>flat_model</th>\n",
       "      <th>lease_commence_date</th>\n",
       "      <th>resale_price</th>\n",
       "      <th>remaining_lease</th>\n",
       "    </tr>\n",
       "  </thead>\n",
       "  <tbody>\n",
       "    <tr>\n",
       "      <th>0</th>\n",
       "      <td>1990-01</td>\n",
       "      <td>ANG MO KIO</td>\n",
       "      <td>1 ROOM</td>\n",
       "      <td>309</td>\n",
       "      <td>ANG MO KIO AVE 1</td>\n",
       "      <td>10 TO 12</td>\n",
       "      <td>31.0</td>\n",
       "      <td>IMPROVED</td>\n",
       "      <td>1977</td>\n",
       "      <td>9000.0</td>\n",
       "      <td>NaN</td>\n",
       "    </tr>\n",
       "    <tr>\n",
       "      <th>1</th>\n",
       "      <td>1990-01</td>\n",
       "      <td>ANG MO KIO</td>\n",
       "      <td>1 ROOM</td>\n",
       "      <td>309</td>\n",
       "      <td>ANG MO KIO AVE 1</td>\n",
       "      <td>04 TO 06</td>\n",
       "      <td>31.0</td>\n",
       "      <td>IMPROVED</td>\n",
       "      <td>1977</td>\n",
       "      <td>6000.0</td>\n",
       "      <td>NaN</td>\n",
       "    </tr>\n",
       "    <tr>\n",
       "      <th>2</th>\n",
       "      <td>1990-01</td>\n",
       "      <td>ANG MO KIO</td>\n",
       "      <td>1 ROOM</td>\n",
       "      <td>309</td>\n",
       "      <td>ANG MO KIO AVE 1</td>\n",
       "      <td>10 TO 12</td>\n",
       "      <td>31.0</td>\n",
       "      <td>IMPROVED</td>\n",
       "      <td>1977</td>\n",
       "      <td>8000.0</td>\n",
       "      <td>NaN</td>\n",
       "    </tr>\n",
       "    <tr>\n",
       "      <th>3</th>\n",
       "      <td>1990-01</td>\n",
       "      <td>ANG MO KIO</td>\n",
       "      <td>1 ROOM</td>\n",
       "      <td>309</td>\n",
       "      <td>ANG MO KIO AVE 1</td>\n",
       "      <td>07 TO 09</td>\n",
       "      <td>31.0</td>\n",
       "      <td>IMPROVED</td>\n",
       "      <td>1977</td>\n",
       "      <td>6000.0</td>\n",
       "      <td>NaN</td>\n",
       "    </tr>\n",
       "    <tr>\n",
       "      <th>4</th>\n",
       "      <td>1990-01</td>\n",
       "      <td>ANG MO KIO</td>\n",
       "      <td>3 ROOM</td>\n",
       "      <td>216</td>\n",
       "      <td>ANG MO KIO AVE 1</td>\n",
       "      <td>04 TO 06</td>\n",
       "      <td>73.0</td>\n",
       "      <td>NEW GENERATION</td>\n",
       "      <td>1976</td>\n",
       "      <td>47200.0</td>\n",
       "      <td>NaN</td>\n",
       "    </tr>\n",
       "  </tbody>\n",
       "</table>\n",
       "</div>"
      ],
      "text/plain": [
       "     month        town flat_type block       street_name storey_range  \\\n",
       "0  1990-01  ANG MO KIO    1 ROOM   309  ANG MO KIO AVE 1     10 TO 12   \n",
       "1  1990-01  ANG MO KIO    1 ROOM   309  ANG MO KIO AVE 1     04 TO 06   \n",
       "2  1990-01  ANG MO KIO    1 ROOM   309  ANG MO KIO AVE 1     10 TO 12   \n",
       "3  1990-01  ANG MO KIO    1 ROOM   309  ANG MO KIO AVE 1     07 TO 09   \n",
       "4  1990-01  ANG MO KIO    3 ROOM   216  ANG MO KIO AVE 1     04 TO 06   \n",
       "\n",
       "   floor_area_sqm      flat_model  lease_commence_date  resale_price  \\\n",
       "0            31.0        IMPROVED                 1977        9000.0   \n",
       "1            31.0        IMPROVED                 1977        6000.0   \n",
       "2            31.0        IMPROVED                 1977        8000.0   \n",
       "3            31.0        IMPROVED                 1977        6000.0   \n",
       "4            73.0  NEW GENERATION                 1976       47200.0   \n",
       "\n",
       "  remaining_lease  \n",
       "0             NaN  \n",
       "1             NaN  \n",
       "2             NaN  \n",
       "3             NaN  \n",
       "4             NaN  "
      ]
     },
     "execution_count": 3,
     "metadata": {},
     "output_type": "execute_result"
    }
   ],
   "source": [
    "df = pd.concat([df1, df2, df3, df4, df5], ignore_index=True)\n",
    "df.head(5)"
   ]
  },
  {
   "cell_type": "code",
   "execution_count": 4,
   "metadata": {},
   "outputs": [
    {
     "name": "stdout",
     "output_type": "stream",
     "text": [
      "<class 'pandas.core.frame.DataFrame'>\n",
      "RangeIndex: 942780 entries, 0 to 942779\n",
      "Data columns (total 11 columns):\n",
      " #   Column               Non-Null Count   Dtype  \n",
      "---  ------               --------------   -----  \n",
      " 0   month                942780 non-null  object \n",
      " 1   town                 942780 non-null  object \n",
      " 2   flat_type            942780 non-null  object \n",
      " 3   block                942780 non-null  object \n",
      " 4   street_name          942780 non-null  object \n",
      " 5   storey_range         942780 non-null  object \n",
      " 6   floor_area_sqm       942780 non-null  float64\n",
      " 7   flat_model           942780 non-null  object \n",
      " 8   lease_commence_date  942780 non-null  int64  \n",
      " 9   resale_price         942780 non-null  float64\n",
      " 10  remaining_lease      233730 non-null  object \n",
      "dtypes: float64(2), int64(1), object(8)\n",
      "memory usage: 79.1+ MB\n"
     ]
    }
   ],
   "source": [
    "df.info()"
   ]
  },
  {
   "cell_type": "code",
   "execution_count": 5,
   "metadata": {},
   "outputs": [
    {
     "data": {
      "text/plain": [
       "month                       0\n",
       "town                        0\n",
       "flat_type                   0\n",
       "block                       0\n",
       "street_name                 0\n",
       "storey_range                0\n",
       "floor_area_sqm              0\n",
       "flat_model                  0\n",
       "lease_commence_date         0\n",
       "resale_price                0\n",
       "remaining_lease        709050\n",
       "dtype: int64"
      ]
     },
     "execution_count": 5,
     "metadata": {},
     "output_type": "execute_result"
    }
   ],
   "source": [
    "df.isnull().sum()"
   ]
  },
  {
   "cell_type": "code",
   "execution_count": 6,
   "metadata": {},
   "outputs": [],
   "source": [
    "df['remaining_lease'].fillna('0',inplace = True)"
   ]
  },
  {
   "cell_type": "code",
   "execution_count": 7,
   "metadata": {},
   "outputs": [
    {
     "data": {
      "text/plain": [
       "month                  0\n",
       "town                   0\n",
       "flat_type              0\n",
       "block                  0\n",
       "street_name            0\n",
       "storey_range           0\n",
       "floor_area_sqm         0\n",
       "flat_model             0\n",
       "lease_commence_date    0\n",
       "resale_price           0\n",
       "remaining_lease        0\n",
       "dtype: int64"
      ]
     },
     "execution_count": 7,
     "metadata": {},
     "output_type": "execute_result"
    }
   ],
   "source": [
    "df.isnull().sum()"
   ]
  },
  {
   "cell_type": "code",
   "execution_count": 8,
   "metadata": {},
   "outputs": [
    {
     "data": {
      "text/plain": [
       "(942780, 11)"
      ]
     },
     "execution_count": 8,
     "metadata": {},
     "output_type": "execute_result"
    }
   ],
   "source": [
    "df.shape"
   ]
  },
  {
   "cell_type": "code",
   "execution_count": 9,
   "metadata": {},
   "outputs": [
    {
     "data": {
      "text/plain": [
       "Index(['month', 'town', 'flat_type', 'block', 'street_name', 'storey_range',\n",
       "       'floor_area_sqm', 'flat_model', 'lease_commence_date', 'resale_price',\n",
       "       'remaining_lease'],\n",
       "      dtype='object')"
      ]
     },
     "execution_count": 9,
     "metadata": {},
     "output_type": "execute_result"
    }
   ],
   "source": [
    "df.columns"
   ]
  },
  {
   "cell_type": "code",
   "execution_count": 10,
   "metadata": {},
   "outputs": [],
   "source": [
    "# function for encoding the catogorical features\n",
    "\n",
    "from sklearn.preprocessing import LabelEncoder\n",
    "\n",
    "def encoding(df,columns):\n",
    "    le=LabelEncoder()\n",
    "\n",
    "    df[columns]=le.fit_transform(df[columns])\n",
    "\n",
    "    unique_labels = le.classes_\n",
    "    encoded_values = le.transform(unique_labels)\n",
    "\n",
    "    for i,j in zip(unique_labels,encoded_values):\n",
    "        print(i,':',j)"
   ]
  },
  {
   "cell_type": "code",
   "execution_count": 11,
   "metadata": {},
   "outputs": [
    {
     "data": {
      "text/plain": [
       "array(['1 ROOM', '3 ROOM', '4 ROOM', '5 ROOM', '2 ROOM', 'EXECUTIVE',\n",
       "       'MULTI GENERATION', 'MULTI-GENERATION'], dtype=object)"
      ]
     },
     "execution_count": 11,
     "metadata": {},
     "output_type": "execute_result"
    }
   ],
   "source": [
    "df['flat_type'].unique()"
   ]
  },
  {
   "cell_type": "code",
   "execution_count": 12,
   "metadata": {},
   "outputs": [
    {
     "data": {
      "text/plain": [
       "array(['1 ROOM', '3 ROOM', '4 ROOM', '5 ROOM', '2 ROOM', 'EXECUTIVE',\n",
       "       'MULTI GENERATION'], dtype=object)"
      ]
     },
     "execution_count": 12,
     "metadata": {},
     "output_type": "execute_result"
    }
   ],
   "source": [
    "#replacing MULTI-GENERATION with MULTI GENERATION\n",
    "df['flat_type'] = df['flat_type'].replace('MULTI-GENERATION','MULTI GENERATION')\n",
    "df['flat_type'].unique()"
   ]
  },
  {
   "cell_type": "code",
   "execution_count": 13,
   "metadata": {},
   "outputs": [
    {
     "name": "stdout",
     "output_type": "stream",
     "text": [
      "1 ROOM : 0\n",
      "2 ROOM : 1\n",
      "3 ROOM : 2\n",
      "4 ROOM : 3\n",
      "5 ROOM : 4\n",
      "EXECUTIVE : 5\n",
      "MULTI GENERATION : 6\n"
     ]
    }
   ],
   "source": [
    "encoding(df,'flat_type')"
   ]
  },
  {
   "cell_type": "code",
   "execution_count": 14,
   "metadata": {},
   "outputs": [
    {
     "data": {
      "text/plain": [
       "array([ 31. ,  73. ,  67. ,  82. ,  74. ,  88. ,  89. ,  83. ,  68. ,\n",
       "        75. ,  81. ,  91. ,  92. ,  97. ,  90. ,  98. ,  99. , 100. ,\n",
       "        93. , 103. , 119. , 120. , 118. , 121. , 135. , 117. ,  45. ,\n",
       "        65. ,  59. ,  70. ,  76. ,  84. , 104. , 105. , 125. , 132. ,\n",
       "       139. , 123. , 143. , 151. ,  69. , 106. , 107. , 116. , 149. ,\n",
       "       141. , 146. , 148. , 145. , 154. , 150. ,  29. ,  51. ,  61. ,\n",
       "        63. ,  64. ,  72. ,  58. ,  66. ,  60. ,  53. ,  54. ,  56. ,\n",
       "        77. , 133. , 131. , 115. ,  43. ,  38. ,  41. ,  85. , 111. ,\n",
       "       101. , 112. , 137. , 127. , 147. , 163. ,  50. ,  40. ,  60.3,\n",
       "        62. ,  55. ,  57. ,  52. ,  63.1, 102. ,  83.1, 126. , 140. ,\n",
       "       142. ,  71. , 108. , 144. ,  96. , 114. , 157. , 152. , 155. ,\n",
       "        87. , 109. , 110. ,  94. , 134. , 122. , 128. ,  78. ,  46. ,\n",
       "        42. ,  49. ,  47. ,  86. , 156. ,  79. ,  80. , 124. ,  28. ,\n",
       "       113. ,  95. , 160. , 136. ,  48. , 138. , 161. ,  39. , 130. ,\n",
       "       159. , 206. ,  68.2,  64.9, 129. , 165. , 153. , 166. , 210. ,\n",
       "        59.2,  73.1,  48.1, 174. ,  74.9, 164. , 158. ,  37. , 198. ,\n",
       "       173. , 199. , 261. , 179. ,  69.7, 246. , 171. , 181. ,  44. ,\n",
       "       169. , 189. ,  67.2, 222. ,  64.8, 250. ,  74.8, 215. , 237. ,\n",
       "        59.1, 185. , 297. , 177. , 243. ,  69.9, 162. , 170. , 190. ,\n",
       "       175. , 187. , 241. , 186. ,  56.4, 176. ,  75.9, 184. , 178. ,\n",
       "        69.2, 172. , 168. , 167. , 152.4,  64.7, 195. , 188. , 225. ,\n",
       "       307. , 182. , 131.1, 192. , 183. , 280. , 180. , 221. , 193. ,\n",
       "       207. ,  89.1,  88.1, 259. , 266. ,  87.1,  34. ,  35. , 239. ,\n",
       "       249. ,  68.8, 100.2, 189.4,  90.8,  89.7,  83.3, 103.6, 208. ,\n",
       "       366.7,  88.4])"
      ]
     },
     "execution_count": 14,
     "metadata": {},
     "output_type": "execute_result"
    }
   ],
   "source": [
    "df['floor_area_sqm'].unique()"
   ]
  },
  {
   "cell_type": "code",
   "execution_count": 15,
   "metadata": {},
   "outputs": [
    {
     "data": {
      "text/plain": [
       "array(['309', '216', '211', ..., '609B', '608B', '606D'], dtype=object)"
      ]
     },
     "execution_count": 15,
     "metadata": {},
     "output_type": "execute_result"
    }
   ],
   "source": [
    "df['block'].unique()"
   ]
  },
  {
   "cell_type": "code",
   "execution_count": 16,
   "metadata": {},
   "outputs": [],
   "source": [
    "# Converting the block column to int\n",
    "df['block'] = df['block'].astype(str)\n",
    "df['block'] = df['block'].apply(lambda x: ''.join(char for char in x if char in '0123456789'))"
   ]
  },
  {
   "cell_type": "code",
   "execution_count": 17,
   "metadata": {},
   "outputs": [
    {
     "data": {
      "text/html": [
       "<div>\n",
       "<style scoped>\n",
       "    .dataframe tbody tr th:only-of-type {\n",
       "        vertical-align: middle;\n",
       "    }\n",
       "\n",
       "    .dataframe tbody tr th {\n",
       "        vertical-align: top;\n",
       "    }\n",
       "\n",
       "    .dataframe thead th {\n",
       "        text-align: right;\n",
       "    }\n",
       "</style>\n",
       "<table border=\"1\" class=\"dataframe\">\n",
       "  <thead>\n",
       "    <tr style=\"text-align: right;\">\n",
       "      <th></th>\n",
       "      <th>month</th>\n",
       "      <th>town</th>\n",
       "      <th>flat_type</th>\n",
       "      <th>block</th>\n",
       "      <th>street_name</th>\n",
       "      <th>floor_area_sqm</th>\n",
       "      <th>flat_model</th>\n",
       "      <th>lease_commence_date</th>\n",
       "      <th>resale_price</th>\n",
       "      <th>remaining_lease</th>\n",
       "      <th>storey_start</th>\n",
       "      <th>storey_end</th>\n",
       "    </tr>\n",
       "  </thead>\n",
       "  <tbody>\n",
       "    <tr>\n",
       "      <th>0</th>\n",
       "      <td>1990-01</td>\n",
       "      <td>ANG MO KIO</td>\n",
       "      <td>0</td>\n",
       "      <td>309</td>\n",
       "      <td>ANG MO KIO AVE 1</td>\n",
       "      <td>31.0</td>\n",
       "      <td>IMPROVED</td>\n",
       "      <td>1977</td>\n",
       "      <td>9000.0</td>\n",
       "      <td>0</td>\n",
       "      <td>10</td>\n",
       "      <td>12</td>\n",
       "    </tr>\n",
       "    <tr>\n",
       "      <th>1</th>\n",
       "      <td>1990-01</td>\n",
       "      <td>ANG MO KIO</td>\n",
       "      <td>0</td>\n",
       "      <td>309</td>\n",
       "      <td>ANG MO KIO AVE 1</td>\n",
       "      <td>31.0</td>\n",
       "      <td>IMPROVED</td>\n",
       "      <td>1977</td>\n",
       "      <td>6000.0</td>\n",
       "      <td>0</td>\n",
       "      <td>4</td>\n",
       "      <td>6</td>\n",
       "    </tr>\n",
       "    <tr>\n",
       "      <th>2</th>\n",
       "      <td>1990-01</td>\n",
       "      <td>ANG MO KIO</td>\n",
       "      <td>0</td>\n",
       "      <td>309</td>\n",
       "      <td>ANG MO KIO AVE 1</td>\n",
       "      <td>31.0</td>\n",
       "      <td>IMPROVED</td>\n",
       "      <td>1977</td>\n",
       "      <td>8000.0</td>\n",
       "      <td>0</td>\n",
       "      <td>10</td>\n",
       "      <td>12</td>\n",
       "    </tr>\n",
       "    <tr>\n",
       "      <th>3</th>\n",
       "      <td>1990-01</td>\n",
       "      <td>ANG MO KIO</td>\n",
       "      <td>0</td>\n",
       "      <td>309</td>\n",
       "      <td>ANG MO KIO AVE 1</td>\n",
       "      <td>31.0</td>\n",
       "      <td>IMPROVED</td>\n",
       "      <td>1977</td>\n",
       "      <td>6000.0</td>\n",
       "      <td>0</td>\n",
       "      <td>7</td>\n",
       "      <td>9</td>\n",
       "    </tr>\n",
       "    <tr>\n",
       "      <th>4</th>\n",
       "      <td>1990-01</td>\n",
       "      <td>ANG MO KIO</td>\n",
       "      <td>2</td>\n",
       "      <td>216</td>\n",
       "      <td>ANG MO KIO AVE 1</td>\n",
       "      <td>73.0</td>\n",
       "      <td>NEW GENERATION</td>\n",
       "      <td>1976</td>\n",
       "      <td>47200.0</td>\n",
       "      <td>0</td>\n",
       "      <td>4</td>\n",
       "      <td>6</td>\n",
       "    </tr>\n",
       "  </tbody>\n",
       "</table>\n",
       "</div>"
      ],
      "text/plain": [
       "     month        town  flat_type block       street_name  floor_area_sqm  \\\n",
       "0  1990-01  ANG MO KIO          0   309  ANG MO KIO AVE 1            31.0   \n",
       "1  1990-01  ANG MO KIO          0   309  ANG MO KIO AVE 1            31.0   \n",
       "2  1990-01  ANG MO KIO          0   309  ANG MO KIO AVE 1            31.0   \n",
       "3  1990-01  ANG MO KIO          0   309  ANG MO KIO AVE 1            31.0   \n",
       "4  1990-01  ANG MO KIO          2   216  ANG MO KIO AVE 1            73.0   \n",
       "\n",
       "       flat_model  lease_commence_date  resale_price remaining_lease  \\\n",
       "0        IMPROVED                 1977        9000.0               0   \n",
       "1        IMPROVED                 1977        6000.0               0   \n",
       "2        IMPROVED                 1977        8000.0               0   \n",
       "3        IMPROVED                 1977        6000.0               0   \n",
       "4  NEW GENERATION                 1976       47200.0               0   \n",
       "\n",
       "   storey_start  storey_end  \n",
       "0            10          12  \n",
       "1             4           6  \n",
       "2            10          12  \n",
       "3             7           9  \n",
       "4             4           6  "
      ]
     },
     "execution_count": 17,
     "metadata": {},
     "output_type": "execute_result"
    }
   ],
   "source": [
    "#split the storeyrange\n",
    "df[['storey_start','storey_end']]=df['storey_range'].str.split('TO',expand=True)\n",
    "\n",
    "#changing the following columns into numeric\n",
    "df['storey_start']=pd.to_numeric(df['storey_start'])\n",
    "df['storey_end']=pd.to_numeric(df['storey_end'])\n",
    "\n",
    "df.drop(columns='storey_range',inplace=True)\n",
    "\n",
    "df.head()"
   ]
  },
  {
   "cell_type": "code",
   "execution_count": 18,
   "metadata": {},
   "outputs": [
    {
     "data": {
      "text/plain": [
       "array(['IMPROVED', 'NEW GENERATION', 'MODEL A', 'STANDARD', 'SIMPLIFIED',\n",
       "       'MODEL A-MAISONETTE', 'APARTMENT', 'MAISONETTE', 'TERRACE',\n",
       "       '2-ROOM', 'IMPROVED-MAISONETTE', 'MULTI GENERATION',\n",
       "       'PREMIUM APARTMENT', 'ADJOINED FLAT', 'PREMIUM MAISONETTE',\n",
       "       'MODEL A2', 'DBSS', 'TYPE S1', 'TYPE S2', 'PREMIUM APARTMENT LOFT',\n",
       "       '3GEN'], dtype=object)"
      ]
     },
     "execution_count": 18,
     "metadata": {},
     "output_type": "execute_result"
    }
   ],
   "source": [
    "#handle the str error\n",
    "df['flat_model']=df['flat_model'].str.upper()\n",
    "df['flat_model'].unique()"
   ]
  },
  {
   "cell_type": "code",
   "execution_count": 19,
   "metadata": {},
   "outputs": [
    {
     "name": "stdout",
     "output_type": "stream",
     "text": [
      "2-ROOM : 0\n",
      "3GEN : 1\n",
      "ADJOINED FLAT : 2\n",
      "APARTMENT : 3\n",
      "DBSS : 4\n",
      "IMPROVED : 5\n",
      "IMPROVED-MAISONETTE : 6\n",
      "MAISONETTE : 7\n",
      "MODEL A : 8\n",
      "MODEL A-MAISONETTE : 9\n",
      "MODEL A2 : 10\n",
      "MULTI GENERATION : 11\n",
      "NEW GENERATION : 12\n",
      "PREMIUM APARTMENT : 13\n",
      "PREMIUM APARTMENT LOFT : 14\n",
      "PREMIUM MAISONETTE : 15\n",
      "SIMPLIFIED : 16\n",
      "STANDARD : 17\n",
      "TERRACE : 18\n",
      "TYPE S1 : 19\n",
      "TYPE S2 : 20\n"
     ]
    }
   ],
   "source": [
    "encoding(df,'flat_model')"
   ]
  },
  {
   "cell_type": "code",
   "execution_count": 20,
   "metadata": {},
   "outputs": [
    {
     "data": {
      "text/plain": [
       "array(['ANG MO KIO', 'BEDOK', 'BISHAN', 'BUKIT BATOK', 'BUKIT MERAH',\n",
       "       'BUKIT TIMAH', 'CENTRAL AREA', 'CHOA CHU KANG', 'CLEMENTI',\n",
       "       'GEYLANG', 'HOUGANG', 'JURONG EAST', 'JURONG WEST',\n",
       "       'KALLANG/WHAMPOA', 'MARINE PARADE', 'QUEENSTOWN', 'SENGKANG',\n",
       "       'SERANGOON', 'TAMPINES', 'TOA PAYOH', 'WOODLANDS', 'YISHUN',\n",
       "       'LIM CHU KANG', 'SEMBAWANG', 'BUKIT PANJANG', 'PASIR RIS',\n",
       "       'PUNGGOL'], dtype=object)"
      ]
     },
     "execution_count": 20,
     "metadata": {},
     "output_type": "execute_result"
    }
   ],
   "source": [
    "df['town'].unique()"
   ]
  },
  {
   "cell_type": "code",
   "execution_count": 21,
   "metadata": {},
   "outputs": [
    {
     "name": "stdout",
     "output_type": "stream",
     "text": [
      "ANG MO KIO : 0\n",
      "BEDOK : 1\n",
      "BISHAN : 2\n",
      "BUKIT BATOK : 3\n",
      "BUKIT MERAH : 4\n",
      "BUKIT PANJANG : 5\n",
      "BUKIT TIMAH : 6\n",
      "CENTRAL AREA : 7\n",
      "CHOA CHU KANG : 8\n",
      "CLEMENTI : 9\n",
      "GEYLANG : 10\n",
      "HOUGANG : 11\n",
      "JURONG EAST : 12\n",
      "JURONG WEST : 13\n",
      "KALLANG/WHAMPOA : 14\n",
      "LIM CHU KANG : 15\n",
      "MARINE PARADE : 16\n",
      "PASIR RIS : 17\n",
      "PUNGGOL : 18\n",
      "QUEENSTOWN : 19\n",
      "SEMBAWANG : 20\n",
      "SENGKANG : 21\n",
      "SERANGOON : 22\n",
      "TAMPINES : 23\n",
      "TOA PAYOH : 24\n",
      "WOODLANDS : 25\n",
      "YISHUN : 26\n"
     ]
    }
   ],
   "source": [
    "encoding(df,'town')"
   ]
  },
  {
   "cell_type": "code",
   "execution_count": 22,
   "metadata": {},
   "outputs": [
    {
     "data": {
      "text/plain": [
       "array(['1990-01', '1990-02', '1990-03', '1990-04', '1990-05', '1990-06',\n",
       "       '1990-07', '1990-08', '1990-09', '1990-10', '1990-11', '1990-12',\n",
       "       '1991-01', '1991-02', '1991-03', '1991-04', '1991-05', '1991-06',\n",
       "       '1991-07', '1991-08', '1991-09', '1991-10', '1991-11', '1991-12',\n",
       "       '1992-01', '1992-02', '1992-03', '1992-04', '1992-05', '1992-06',\n",
       "       '1992-07', '1992-08', '1992-09', '1992-10', '1992-11', '1992-12',\n",
       "       '1993-01', '1993-02', '1993-03', '1993-04', '1993-05', '1993-06',\n",
       "       '1993-07', '1993-08', '1993-09', '1993-10', '1993-11', '1993-12',\n",
       "       '1994-01', '1994-02', '1994-03', '1994-04', '1994-05', '1994-06',\n",
       "       '1994-07', '1994-08', '1994-09', '1994-10', '1994-11', '1994-12',\n",
       "       '1995-01', '1995-02', '1995-03', '1995-04', '1995-05', '1995-06',\n",
       "       '1995-07', '1995-08', '1995-09', '1995-10', '1995-11', '1995-12',\n",
       "       '1996-01', '1996-02', '1996-03', '1996-04', '1996-05', '1996-06',\n",
       "       '1996-07', '1996-08', '1996-09', '1996-10', '1996-11', '1996-12',\n",
       "       '1997-01', '1997-02', '1997-03', '1997-04', '1997-05', '1997-06',\n",
       "       '1997-07', '1997-08', '1997-09', '1997-10', '1997-11', '1997-12',\n",
       "       '1998-01', '1998-02', '1998-03', '1998-04', '1998-05', '1998-06',\n",
       "       '1998-07', '1998-08', '1998-09', '1998-10', '1998-11', '1998-12',\n",
       "       '1999-01', '1999-02', '1999-03', '1999-04', '1999-05', '1999-06',\n",
       "       '1999-07', '1999-08', '1999-09', '1999-10', '1999-11', '1999-12',\n",
       "       '2000-01', '2000-02', '2000-03', '2000-04', '2000-05', '2000-06',\n",
       "       '2000-07', '2000-08', '2000-09', '2000-10', '2000-11', '2000-12',\n",
       "       '2001-01', '2001-02', '2001-03', '2001-04', '2001-05', '2001-06',\n",
       "       '2001-07', '2001-08', '2001-09', '2001-10', '2001-11', '2001-12',\n",
       "       '2002-01', '2002-02', '2002-03', '2002-04', '2002-05', '2002-06',\n",
       "       '2002-07', '2002-08', '2002-09', '2002-10', '2002-11', '2002-12',\n",
       "       '2003-01', '2003-02', '2003-03', '2003-04', '2003-05', '2003-06',\n",
       "       '2003-07', '2003-08', '2003-09', '2003-10', '2003-11', '2003-12',\n",
       "       '2004-01', '2004-02', '2004-03', '2004-04', '2004-05', '2004-06',\n",
       "       '2004-07', '2004-08', '2004-09', '2004-10', '2004-11', '2004-12',\n",
       "       '2005-01', '2005-02', '2005-03', '2005-04', '2005-05', '2005-06',\n",
       "       '2005-07', '2005-08', '2005-09', '2005-10', '2005-11', '2005-12',\n",
       "       '2006-01', '2006-02', '2006-03', '2006-04', '2006-05', '2006-06',\n",
       "       '2006-07', '2006-08', '2006-09', '2006-10', '2006-11', '2006-12',\n",
       "       '2007-01', '2007-02', '2007-03', '2007-04', '2007-05', '2007-06',\n",
       "       '2007-07', '2007-08', '2007-09', '2007-10', '2007-11', '2007-12',\n",
       "       '2008-01', '2008-02', '2008-03', '2008-04', '2008-05', '2008-06',\n",
       "       '2008-07', '2008-08', '2008-09', '2008-10', '2008-11', '2008-12',\n",
       "       '2009-01', '2009-02', '2009-03', '2009-04', '2009-05', '2009-06',\n",
       "       '2009-07', '2009-08', '2009-09', '2009-10', '2009-11', '2009-12',\n",
       "       '2010-01', '2010-02', '2010-03', '2010-04', '2010-05', '2010-06',\n",
       "       '2010-07', '2010-08', '2010-09', '2010-10', '2010-11', '2010-12',\n",
       "       '2011-01', '2011-02', '2011-03', '2011-04', '2011-05', '2011-06',\n",
       "       '2011-07', '2011-08', '2011-09', '2011-10', '2011-11', '2011-12',\n",
       "       '2012-01', '2012-02', '2012-03', '2012-04', '2012-05', '2012-06',\n",
       "       '2012-07', '2012-08', '2012-09', '2012-10', '2012-11', '2012-12',\n",
       "       '2013-01', '2013-02', '2013-03', '2013-04', '2013-05', '2013-06',\n",
       "       '2013-07', '2013-08', '2013-09', '2013-10', '2013-11', '2013-12',\n",
       "       '2014-01', '2014-02', '2014-03', '2014-04', '2014-05', '2014-06',\n",
       "       '2014-07', '2014-08', '2014-09', '2014-10', '2014-11', '2014-12',\n",
       "       '2015-01', '2015-02', '2015-03', '2015-04', '2015-05', '2015-06',\n",
       "       '2015-07', '2015-08', '2015-09', '2015-10', '2015-11', '2015-12',\n",
       "       '2016-01', '2016-02', '2016-03', '2016-04', '2016-05', '2016-06',\n",
       "       '2016-07', '2016-08', '2016-09', '2016-10', '2016-11', '2016-12',\n",
       "       '2017-01', '2017-02', '2017-03', '2017-04', '2017-05', '2017-06',\n",
       "       '2017-07', '2017-08', '2017-09', '2017-10', '2017-11', '2017-12',\n",
       "       '2018-01', '2018-02', '2018-03', '2018-04', '2018-05', '2018-06',\n",
       "       '2018-07', '2018-08', '2018-09', '2018-10', '2018-11', '2018-12',\n",
       "       '2019-01', '2019-02', '2019-03', '2019-04', '2019-05', '2019-06',\n",
       "       '2019-07', '2019-08', '2019-09', '2019-10', '2019-11', '2019-12',\n",
       "       '2020-01', '2020-02', '2020-03', '2020-04', '2020-05', '2020-06',\n",
       "       '2020-07', '2020-08', '2020-09', '2020-10', '2020-11', '2020-12',\n",
       "       '2021-01', '2021-02', '2021-03', '2021-04', '2021-05', '2021-06',\n",
       "       '2021-07', '2021-08', '2021-09', '2021-10', '2021-11', '2021-12',\n",
       "       '2022-01', '2022-02', '2022-03', '2022-04', '2022-05', '2022-06',\n",
       "       '2022-07', '2022-08', '2022-09', '2022-10', '2022-11', '2022-12',\n",
       "       '2023-01', '2023-02', '2023-03', '2023-04', '2023-05', '2023-06',\n",
       "       '2023-07', '2023-08', '2023-09', '2023-10', '2023-11', '2023-12',\n",
       "       '2024-02', '2024-12', '2024-04', '2024-06', '2024-09', '2024-11',\n",
       "       '2024-01', '2024-03', '2024-07', '2024-05', '2024-08', '2024-10'],\n",
       "      dtype=object)"
      ]
     },
     "execution_count": 22,
     "metadata": {},
     "output_type": "execute_result"
    }
   ],
   "source": [
    "df['month'].unique()"
   ]
  },
  {
   "cell_type": "code",
   "execution_count": 23,
   "metadata": {},
   "outputs": [],
   "source": [
    "#splitting month column to year and month\n",
    "df['reg_year'] = df['month'].apply(lambda x: int(x.split('-')[0]))\n",
    "df['reg_month'] = df['month'].apply(lambda x: int(x.split('-')[1]))"
   ]
  },
  {
   "cell_type": "code",
   "execution_count": 24,
   "metadata": {},
   "outputs": [
    {
     "data": {
      "text/plain": [
       "array([1977, 1976, 1978, 1979, 1984, 1980, 1985, 1981, 1982, 1986, 1972,\n",
       "       1983, 1973, 1969, 1975, 1971, 1974, 1967, 1970, 1968, 1988, 1987,\n",
       "       1989, 1990, 1992, 1993, 1994, 1991, 1995, 1996, 1997, 1998, 1999,\n",
       "       2000, 2001, 1966, 2002, 2006, 2003, 2005, 2004, 2008, 2007, 2009,\n",
       "       2010, 2012, 2011, 2013, 2014, 2015, 2016, 2017, 2018, 2019, 2020,\n",
       "       2021], dtype=int64)"
      ]
     },
     "execution_count": 24,
     "metadata": {},
     "output_type": "execute_result"
    }
   ],
   "source": [
    "\n",
    "df['lease_commence_date'].unique()"
   ]
  },
  {
   "cell_type": "code",
   "execution_count": 25,
   "metadata": {},
   "outputs": [],
   "source": [
    "# street_name is not necessary column in calculating the price.\n",
    "df['street_name'].unique()\n",
    "df.drop(columns='street_name',inplace=True)\n"
   ]
  },
  {
   "cell_type": "code",
   "execution_count": 26,
   "metadata": {},
   "outputs": [
    {
     "data": {
      "text/html": [
       "<div>\n",
       "<style scoped>\n",
       "    .dataframe tbody tr th:only-of-type {\n",
       "        vertical-align: middle;\n",
       "    }\n",
       "\n",
       "    .dataframe tbody tr th {\n",
       "        vertical-align: top;\n",
       "    }\n",
       "\n",
       "    .dataframe thead th {\n",
       "        text-align: right;\n",
       "    }\n",
       "</style>\n",
       "<table border=\"1\" class=\"dataframe\">\n",
       "  <thead>\n",
       "    <tr style=\"text-align: right;\">\n",
       "      <th></th>\n",
       "      <th>month</th>\n",
       "      <th>town</th>\n",
       "      <th>flat_type</th>\n",
       "      <th>block</th>\n",
       "      <th>floor_area_sqm</th>\n",
       "      <th>flat_model</th>\n",
       "      <th>lease_commence_date</th>\n",
       "      <th>resale_price</th>\n",
       "      <th>remaining_lease</th>\n",
       "      <th>storey_start</th>\n",
       "      <th>storey_end</th>\n",
       "      <th>reg_year</th>\n",
       "      <th>reg_month</th>\n",
       "    </tr>\n",
       "  </thead>\n",
       "  <tbody>\n",
       "    <tr>\n",
       "      <th>0</th>\n",
       "      <td>1990-01</td>\n",
       "      <td>0</td>\n",
       "      <td>0</td>\n",
       "      <td>309</td>\n",
       "      <td>31.0</td>\n",
       "      <td>5</td>\n",
       "      <td>1977</td>\n",
       "      <td>9000.0</td>\n",
       "      <td>0</td>\n",
       "      <td>10</td>\n",
       "      <td>12</td>\n",
       "      <td>1990</td>\n",
       "      <td>1</td>\n",
       "    </tr>\n",
       "    <tr>\n",
       "      <th>1</th>\n",
       "      <td>1990-01</td>\n",
       "      <td>0</td>\n",
       "      <td>0</td>\n",
       "      <td>309</td>\n",
       "      <td>31.0</td>\n",
       "      <td>5</td>\n",
       "      <td>1977</td>\n",
       "      <td>6000.0</td>\n",
       "      <td>0</td>\n",
       "      <td>4</td>\n",
       "      <td>6</td>\n",
       "      <td>1990</td>\n",
       "      <td>1</td>\n",
       "    </tr>\n",
       "    <tr>\n",
       "      <th>2</th>\n",
       "      <td>1990-01</td>\n",
       "      <td>0</td>\n",
       "      <td>0</td>\n",
       "      <td>309</td>\n",
       "      <td>31.0</td>\n",
       "      <td>5</td>\n",
       "      <td>1977</td>\n",
       "      <td>8000.0</td>\n",
       "      <td>0</td>\n",
       "      <td>10</td>\n",
       "      <td>12</td>\n",
       "      <td>1990</td>\n",
       "      <td>1</td>\n",
       "    </tr>\n",
       "    <tr>\n",
       "      <th>3</th>\n",
       "      <td>1990-01</td>\n",
       "      <td>0</td>\n",
       "      <td>0</td>\n",
       "      <td>309</td>\n",
       "      <td>31.0</td>\n",
       "      <td>5</td>\n",
       "      <td>1977</td>\n",
       "      <td>6000.0</td>\n",
       "      <td>0</td>\n",
       "      <td>7</td>\n",
       "      <td>9</td>\n",
       "      <td>1990</td>\n",
       "      <td>1</td>\n",
       "    </tr>\n",
       "    <tr>\n",
       "      <th>4</th>\n",
       "      <td>1990-01</td>\n",
       "      <td>0</td>\n",
       "      <td>2</td>\n",
       "      <td>216</td>\n",
       "      <td>73.0</td>\n",
       "      <td>12</td>\n",
       "      <td>1976</td>\n",
       "      <td>47200.0</td>\n",
       "      <td>0</td>\n",
       "      <td>4</td>\n",
       "      <td>6</td>\n",
       "      <td>1990</td>\n",
       "      <td>1</td>\n",
       "    </tr>\n",
       "  </tbody>\n",
       "</table>\n",
       "</div>"
      ],
      "text/plain": [
       "     month  town  flat_type block  floor_area_sqm  flat_model  \\\n",
       "0  1990-01     0          0   309            31.0           5   \n",
       "1  1990-01     0          0   309            31.0           5   \n",
       "2  1990-01     0          0   309            31.0           5   \n",
       "3  1990-01     0          0   309            31.0           5   \n",
       "4  1990-01     0          2   216            73.0          12   \n",
       "\n",
       "   lease_commence_date  resale_price remaining_lease  storey_start  \\\n",
       "0                 1977        9000.0               0            10   \n",
       "1                 1977        6000.0               0             4   \n",
       "2                 1977        8000.0               0            10   \n",
       "3                 1977        6000.0               0             7   \n",
       "4                 1976       47200.0               0             4   \n",
       "\n",
       "   storey_end  reg_year  reg_month  \n",
       "0          12      1990          1  \n",
       "1           6      1990          1  \n",
       "2          12      1990          1  \n",
       "3           9      1990          1  \n",
       "4           6      1990          1  "
      ]
     },
     "execution_count": 26,
     "metadata": {},
     "output_type": "execute_result"
    }
   ],
   "source": [
    "df[['town','flat_type','flat_model']]=df[['town','flat_type','flat_model']].astype('int64')\n",
    "df.head()"
   ]
  },
  {
   "cell_type": "code",
   "execution_count": 27,
   "metadata": {},
   "outputs": [
    {
     "name": "stdout",
     "output_type": "stream",
     "text": [
      "   flat_type  flat_model\n",
      "0          0           1\n",
      "1          1           6\n",
      "2          2           9\n",
      "3          3          12\n",
      "4          4          11\n",
      "5          5           5\n",
      "6          6           1\n"
     ]
    },
    {
     "data": {
      "image/png": "[encoded data removed]",
      "text/plain": [
       "<Figure size 500x400 with 1 Axes>"
      ]
     },
     "metadata": {},
     "output_type": "display_data"
    }
   ],
   "source": [
    "temp = pd.DataFrame(df.groupby('flat_type')['flat_model'].nunique()).reset_index()\n",
    "print(temp)\n",
    "plt.figure(figsize = (5,4))\n",
    "plt.pie(temp['flat_model'], labels = temp['flat_type'], autopct = '%.0f%%')\n",
    "plt.show()"
   ]
  },
  {
   "cell_type": "markdown",
   "metadata": {},
   "source": [
    "observation from pie chart \n",
    "* 4 room , 5 room and 3 room holds the most number of shares of the flat model"
   ]
  },
  {
   "cell_type": "code",
   "execution_count": 28,
   "metadata": {},
   "outputs": [
    {
     "data": {
      "text/plain": [
       "<Axes: title={'center': 'floor area distribution of flat type'}, xlabel='flat_type', ylabel='floor_area_sqm'>"
      ]
     },
     "execution_count": 28,
     "metadata": {},
     "output_type": "execute_result"
    },
    {
     "data": {
      "image/png": "[encoded data removed]",
      "text/plain": [
       "<Figure size 1200x500 with 1 Axes>"
      ]
     },
     "metadata": {},
     "output_type": "display_data"
    }
   ],
   "source": [
    "import seaborn as sns\n",
    "\n",
    "\n",
    "plt.figure(figsize = (12,5))\n",
    "plt.title('floor area distribution of flat type')\n",
    "sns.boxplot(x = 'flat_type', y ='floor_area_sqm', data = df, showfliers = False)"
   ]
  },
  {
   "cell_type": "code",
   "execution_count": 29,
   "metadata": {},
   "outputs": [
    {
     "data": {
      "image/png": "[encoded data removed]",
      "text/plain": [
       "<Figure size 1000x600 with 1 Axes>"
      ]
     },
     "metadata": {},
     "output_type": "display_data"
    }
   ],
   "source": [
    "df['lease_commence_date'] = df['lease_commence_date']\n",
    "\n",
    "plt.figure(figsize=(10, 6))\n",
    "sns.lineplot(x='reg_year', y='resale_price', data=df)\n",
    "plt.title('Resale Price Trend Over Time')\n",
    "plt.xlabel('Year')\n",
    "plt.ylabel('Resale Price')\n",
    "plt.show()"
   ]
  },
  {
   "cell_type": "code",
   "execution_count": 30,
   "metadata": {},
   "outputs": [],
   "source": [
    "df.drop(columns='month', inplace=True)"
   ]
  },
  {
   "cell_type": "code",
   "execution_count": 31,
   "metadata": {},
   "outputs": [],
   "source": [
    "df.drop(\"remaining_lease\",inplace = True , axis = 1)"
   ]
  },
  {
   "cell_type": "code",
   "execution_count": 32,
   "metadata": {},
   "outputs": [
    {
     "data": {
      "text/html": [
       "<div>\n",
       "<style scoped>\n",
       "    .dataframe tbody tr th:only-of-type {\n",
       "        vertical-align: middle;\n",
       "    }\n",
       "\n",
       "    .dataframe tbody tr th {\n",
       "        vertical-align: top;\n",
       "    }\n",
       "\n",
       "    .dataframe thead th {\n",
       "        text-align: right;\n",
       "    }\n",
       "</style>\n",
       "<table border=\"1\" class=\"dataframe\">\n",
       "  <thead>\n",
       "    <tr style=\"text-align: right;\">\n",
       "      <th></th>\n",
       "      <th>town</th>\n",
       "      <th>flat_type</th>\n",
       "      <th>block</th>\n",
       "      <th>floor_area_sqm</th>\n",
       "      <th>flat_model</th>\n",
       "      <th>lease_commence_date</th>\n",
       "      <th>resale_price</th>\n",
       "      <th>storey_start</th>\n",
       "      <th>storey_end</th>\n",
       "      <th>reg_year</th>\n",
       "      <th>reg_month</th>\n",
       "    </tr>\n",
       "  </thead>\n",
       "  <tbody>\n",
       "    <tr>\n",
       "      <th>0</th>\n",
       "      <td>0</td>\n",
       "      <td>0</td>\n",
       "      <td>309</td>\n",
       "      <td>31.0</td>\n",
       "      <td>5</td>\n",
       "      <td>1977</td>\n",
       "      <td>9000.0</td>\n",
       "      <td>10</td>\n",
       "      <td>12</td>\n",
       "      <td>1990</td>\n",
       "      <td>1</td>\n",
       "    </tr>\n",
       "    <tr>\n",
       "      <th>1</th>\n",
       "      <td>0</td>\n",
       "      <td>0</td>\n",
       "      <td>309</td>\n",
       "      <td>31.0</td>\n",
       "      <td>5</td>\n",
       "      <td>1977</td>\n",
       "      <td>6000.0</td>\n",
       "      <td>4</td>\n",
       "      <td>6</td>\n",
       "      <td>1990</td>\n",
       "      <td>1</td>\n",
       "    </tr>\n",
       "    <tr>\n",
       "      <th>2</th>\n",
       "      <td>0</td>\n",
       "      <td>0</td>\n",
       "      <td>309</td>\n",
       "      <td>31.0</td>\n",
       "      <td>5</td>\n",
       "      <td>1977</td>\n",
       "      <td>8000.0</td>\n",
       "      <td>10</td>\n",
       "      <td>12</td>\n",
       "      <td>1990</td>\n",
       "      <td>1</td>\n",
       "    </tr>\n",
       "  </tbody>\n",
       "</table>\n",
       "</div>"
      ],
      "text/plain": [
       "   town  flat_type block  floor_area_sqm  flat_model  lease_commence_date  \\\n",
       "0     0          0   309            31.0           5                 1977   \n",
       "1     0          0   309            31.0           5                 1977   \n",
       "2     0          0   309            31.0           5                 1977   \n",
       "\n",
       "   resale_price  storey_start  storey_end  reg_year  reg_month  \n",
       "0        9000.0            10          12      1990          1  \n",
       "1        6000.0             4           6      1990          1  \n",
       "2        8000.0            10          12      1990          1  "
      ]
     },
     "execution_count": 32,
     "metadata": {},
     "output_type": "execute_result"
    }
   ],
   "source": [
    "df.head(3)"
   ]
  },
  {
   "cell_type": "code",
   "execution_count": 33,
   "metadata": {},
   "outputs": [
    {
     "name": "stderr",
     "output_type": "stream",
     "text": [
      "C:\\Users\\Diwa\\AppData\\Local\\Temp\\ipykernel_8676\\3792240162.py:5: FutureWarning: The default value of numeric_only in DataFrame.corr is deprecated. In a future version, it will default to False. Select only valid columns or specify the value of numeric_only to silence this warning.\n",
      "  sns.heatmap(df[feature_cols].corr(),cmap=\"Reds\", annot = True)\n"
     ]
    },
    {
     "data": {
      "text/plain": [
       "<Axes: title={'center': 'Correlation Matrix'}>"
      ]
     },
     "execution_count": 33,
     "metadata": {},
     "output_type": "execute_result"
    },
    {
     "data": {
      "image/png": "[encoded data removed]",
      "text/plain": [
       "<Figure size 1000x400 with 2 Axes>"
      ]
     },
     "metadata": {},
     "output_type": "display_data"
    }
   ],
   "source": [
    "feature_cols = ['town', 'flat_type', 'block', 'floor_area_sqm', 'flat_model', 'lease_commence_date',\n",
    "                 'resale_price','storey_start', 'storey_end']\n",
    "plt.figure(figsize = (10,4))\n",
    "plt.title('Correlation Matrix')\n",
    "sns.heatmap(df[feature_cols].corr(),cmap=\"Reds\", annot = True)"
   ]
  },
  {
   "cell_type": "code",
   "execution_count": 34,
   "metadata": {},
   "outputs": [
    {
     "data": {
      "text/plain": [
       "((942780, 10), (942780,))"
      ]
     },
     "execution_count": 34,
     "metadata": {},
     "output_type": "execute_result"
    }
   ],
   "source": [
    "# Split the data into features and target\n",
    "#split the data into x and y \n",
    "\n",
    "x=df.drop(['resale_price'],axis=1)\n",
    "y=df['resale_price']\n",
    "\n",
    "x.shape,y.shape"
   ]
  },
  {
   "cell_type": "code",
   "execution_count": 35,
   "metadata": {},
   "outputs": [],
   "source": [
    "from sklearn.model_selection import train_test_split\n",
    "\n",
    "# Split the data into train and test\n",
    "x_train, x_test, y_train, y_test = train_test_split(x, y, test_size=0.2, random_state=42)"
   ]
  },
  {
   "cell_type": "code",
   "execution_count": 36,
   "metadata": {},
   "outputs": [
    {
     "data": {
      "text/html": [
       "<div>\n",
       "<style scoped>\n",
       "    .dataframe tbody tr th:only-of-type {\n",
       "        vertical-align: middle;\n",
       "    }\n",
       "\n",
       "    .dataframe tbody tr th {\n",
       "        vertical-align: top;\n",
       "    }\n",
       "\n",
       "    .dataframe thead th {\n",
       "        text-align: right;\n",
       "    }\n",
       "</style>\n",
       "<table border=\"1\" class=\"dataframe\">\n",
       "  <thead>\n",
       "    <tr style=\"text-align: right;\">\n",
       "      <th></th>\n",
       "      <th>town</th>\n",
       "      <th>flat_type</th>\n",
       "      <th>block</th>\n",
       "      <th>floor_area_sqm</th>\n",
       "      <th>flat_model</th>\n",
       "      <th>lease_commence_date</th>\n",
       "      <th>storey_start</th>\n",
       "      <th>storey_end</th>\n",
       "      <th>reg_year</th>\n",
       "      <th>reg_month</th>\n",
       "    </tr>\n",
       "  </thead>\n",
       "  <tbody>\n",
       "    <tr>\n",
       "      <th>942246</th>\n",
       "      <td>26</td>\n",
       "      <td>3</td>\n",
       "      <td>613</td>\n",
       "      <td>85.0</td>\n",
       "      <td>16</td>\n",
       "      <td>1987</td>\n",
       "      <td>7</td>\n",
       "      <td>9</td>\n",
       "      <td>2024</td>\n",
       "      <td>4</td>\n",
       "    </tr>\n",
       "    <tr>\n",
       "      <th>292304</th>\n",
       "      <td>2</td>\n",
       "      <td>4</td>\n",
       "      <td>136</td>\n",
       "      <td>119.0</td>\n",
       "      <td>5</td>\n",
       "      <td>1987</td>\n",
       "      <td>4</td>\n",
       "      <td>6</td>\n",
       "      <td>2000</td>\n",
       "      <td>3</td>\n",
       "    </tr>\n",
       "    <tr>\n",
       "      <th>837134</th>\n",
       "      <td>12</td>\n",
       "      <td>4</td>\n",
       "      <td>258</td>\n",
       "      <td>121.0</td>\n",
       "      <td>5</td>\n",
       "      <td>1983</td>\n",
       "      <td>4</td>\n",
       "      <td>6</td>\n",
       "      <td>2021</td>\n",
       "      <td>2</td>\n",
       "    </tr>\n",
       "    <tr>\n",
       "      <th>691359</th>\n",
       "      <td>13</td>\n",
       "      <td>4</td>\n",
       "      <td>663</td>\n",
       "      <td>110.0</td>\n",
       "      <td>5</td>\n",
       "      <td>2000</td>\n",
       "      <td>4</td>\n",
       "      <td>6</td>\n",
       "      <td>2013</td>\n",
       "      <td>11</td>\n",
       "    </tr>\n",
       "    <tr>\n",
       "      <th>1514</th>\n",
       "      <td>0</td>\n",
       "      <td>2</td>\n",
       "      <td>247</td>\n",
       "      <td>67.0</td>\n",
       "      <td>12</td>\n",
       "      <td>1978</td>\n",
       "      <td>4</td>\n",
       "      <td>6</td>\n",
       "      <td>1990</td>\n",
       "      <td>2</td>\n",
       "    </tr>\n",
       "    <tr>\n",
       "      <th>...</th>\n",
       "      <td>...</td>\n",
       "      <td>...</td>\n",
       "      <td>...</td>\n",
       "      <td>...</td>\n",
       "      <td>...</td>\n",
       "      <td>...</td>\n",
       "      <td>...</td>\n",
       "      <td>...</td>\n",
       "      <td>...</td>\n",
       "      <td>...</td>\n",
       "    </tr>\n",
       "    <tr>\n",
       "      <th>259178</th>\n",
       "      <td>11</td>\n",
       "      <td>2</td>\n",
       "      <td>328</td>\n",
       "      <td>67.0</td>\n",
       "      <td>12</td>\n",
       "      <td>1983</td>\n",
       "      <td>10</td>\n",
       "      <td>12</td>\n",
       "      <td>1999</td>\n",
       "      <td>6</td>\n",
       "    </tr>\n",
       "    <tr>\n",
       "      <th>365838</th>\n",
       "      <td>25</td>\n",
       "      <td>4</td>\n",
       "      <td>214</td>\n",
       "      <td>118.0</td>\n",
       "      <td>5</td>\n",
       "      <td>1981</td>\n",
       "      <td>25</td>\n",
       "      <td>27</td>\n",
       "      <td>2002</td>\n",
       "      <td>2</td>\n",
       "    </tr>\n",
       "    <tr>\n",
       "      <th>131932</th>\n",
       "      <td>1</td>\n",
       "      <td>2</td>\n",
       "      <td>537</td>\n",
       "      <td>83.0</td>\n",
       "      <td>12</td>\n",
       "      <td>1980</td>\n",
       "      <td>4</td>\n",
       "      <td>6</td>\n",
       "      <td>1996</td>\n",
       "      <td>8</td>\n",
       "    </tr>\n",
       "    <tr>\n",
       "      <th>671155</th>\n",
       "      <td>21</td>\n",
       "      <td>3</td>\n",
       "      <td>275</td>\n",
       "      <td>90.0</td>\n",
       "      <td>13</td>\n",
       "      <td>2009</td>\n",
       "      <td>1</td>\n",
       "      <td>3</td>\n",
       "      <td>2012</td>\n",
       "      <td>9</td>\n",
       "    </tr>\n",
       "    <tr>\n",
       "      <th>121958</th>\n",
       "      <td>22</td>\n",
       "      <td>2</td>\n",
       "      <td>223</td>\n",
       "      <td>67.0</td>\n",
       "      <td>12</td>\n",
       "      <td>1984</td>\n",
       "      <td>4</td>\n",
       "      <td>6</td>\n",
       "      <td>1996</td>\n",
       "      <td>4</td>\n",
       "    </tr>\n",
       "  </tbody>\n",
       "</table>\n",
       "<p>754224 rows × 10 columns</p>\n",
       "</div>"
      ],
      "text/plain": [
       "        town  flat_type block  floor_area_sqm  flat_model  \\\n",
       "942246    26          3   613            85.0          16   \n",
       "292304     2          4   136           119.0           5   \n",
       "837134    12          4   258           121.0           5   \n",
       "691359    13          4   663           110.0           5   \n",
       "1514       0          2   247            67.0          12   \n",
       "...      ...        ...   ...             ...         ...   \n",
       "259178    11          2   328            67.0          12   \n",
       "365838    25          4   214           118.0           5   \n",
       "131932     1          2   537            83.0          12   \n",
       "671155    21          3   275            90.0          13   \n",
       "121958    22          2   223            67.0          12   \n",
       "\n",
       "        lease_commence_date  storey_start  storey_end  reg_year  reg_month  \n",
       "942246                 1987             7           9      2024          4  \n",
       "292304                 1987             4           6      2000          3  \n",
       "837134                 1983             4           6      2021          2  \n",
       "691359                 2000             4           6      2013         11  \n",
       "1514                   1978             4           6      1990          2  \n",
       "...                     ...           ...         ...       ...        ...  \n",
       "259178                 1983            10          12      1999          6  \n",
       "365838                 1981            25          27      2002          2  \n",
       "131932                 1980             4           6      1996          8  \n",
       "671155                 2009             1           3      2012          9  \n",
       "121958                 1984             4           6      1996          4  \n",
       "\n",
       "[754224 rows x 10 columns]"
      ]
     },
     "execution_count": 36,
     "metadata": {},
     "output_type": "execute_result"
    }
   ],
   "source": [
    "x_train"
   ]
  },
  {
   "cell_type": "code",
   "execution_count": 37,
   "metadata": {},
   "outputs": [
    {
     "name": "stdout",
     "output_type": "stream",
     "text": [
      "MAE = 61334.92975364934\n",
      "MSE = 6810759485.872312\n",
      "RMSE  = 82527.32569199314\n",
      "R2 Score = 0.7784973600938786\n"
     ]
    }
   ],
   "source": [
    "from sklearn.linear_model import LinearRegression\n",
    "from sklearn.metrics import mean_absolute_error, mean_squared_error\n",
    "\n",
    "linear_regression = LinearRegression()\n",
    "linear_regression.fit(x_train , y_train)\n",
    "y_pred = linear_regression.predict(x_test)\n",
    "\n",
    "print(f'MAE = {metrics.mean_absolute_error(y_test,y_pred)}')\n",
    "print(f'MSE = {metrics.mean_squared_error(y_test,y_pred)}')\n",
    "print(f'RMSE  = {np.sqrt(metrics.mean_squared_error(y_test,y_pred))}')\n",
    "print(f'R2 Score = {linear_regression.score(x_test,y_test)}')"
   ]
  },
  {
   "cell_type": "code",
   "execution_count": 38,
   "metadata": {},
   "outputs": [
    {
     "name": "stdout",
     "output_type": "stream",
     "text": [
      "MAE is - 33047.833234863625\n",
      "MAE is - 2351109700.994947\n",
      "RMSE is - 48488.242915112394\n",
      "Accuracy Score is - 0.923536133296216\n"
     ]
    }
   ],
   "source": [
    "from sklearn.ensemble import RandomForestRegressor\n",
    "\n",
    "rf_regressor = RandomForestRegressor(n_estimators=50, max_depth=10)\n",
    "rf_regressor.fit(x_train, y_train)\n",
    "y_pred = rf_regressor.predict(x_test)\n",
    "\n",
    "print(f'MAE is - {metrics.mean_absolute_error(y_test, y_pred)}')\n",
    "print(f'MAE is - {metrics.mean_squared_error(y_test, y_pred)}')\n",
    "print(f'RMSE is - {np.sqrt(metrics.mean_squared_error(y_test, y_pred))}')\n",
    "print(f'Accuracy Score is - {rf_regressor.score(x_test, y_test)}')"
   ]
  },
  {
   "cell_type": "code",
   "execution_count": 39,
   "metadata": {},
   "outputs": [
    {
     "name": "stdout",
     "output_type": "stream",
     "text": [
      "MAE is - 19930.621940022364\n",
      "MAE is - 958905440.9039259\n",
      "RMSE is - 30966.198360533795\n",
      "R2 Score is - 0.9688140379907485\n"
     ]
    }
   ],
   "source": [
    "from sklearn.tree import DecisionTreeRegressor\n",
    "\n",
    "decision_tree_regressor = DecisionTreeRegressor()\n",
    "decision_tree_regressor.fit(x_train, y_train)\n",
    "y_pred = decision_tree_regressor.predict(x_test)\n",
    "\n",
    "print(f'MAE is - {metrics.mean_absolute_error(y_test, y_pred)}')\n",
    "print(f'MAE is - {metrics.mean_squared_error(y_test, y_pred)}')\n",
    "print(f'RMSE is - {np.sqrt(metrics.mean_squared_error(y_test, y_pred))}')\n",
    "print(f'R2 Score is - {decision_tree_regressor.score(x_test, y_test)}')"
   ]
  },
  {
   "cell_type": "code",
   "execution_count": 40,
   "metadata": {},
   "outputs": [
    {
     "name": "stdout",
     "output_type": "stream",
     "text": [
      "Prediction for the input data: 8000.0\n"
     ]
    }
   ],
   "source": [
    "input_data = pd.DataFrame([[0, 0,309,31.0,7,1977,10,12,1990,1]], \n",
    "                          columns=['town', 'flat_type', 'block', \n",
    "                                   'floor_area_sqm', 'flat_model', 'lease_commence_date', 'storey_start', 'storey_end',\n",
    "                                   'reg_year', 'reg_month'])\n",
    "predict = decision_tree_regressor.predict(input_data)\n",
    "\n",
    "print(f\"Prediction for the input data: {predict[0]}\")"
   ]
  },
  {
   "cell_type": "code",
   "execution_count": 41,
   "metadata": {},
   "outputs": [],
   "source": [
    "import pickle\n",
    "with open ('decision_tree_regressor.pkl', 'wb') as f:\n",
    "    pickle.dump(decision_tree_regressor , f)"
   ]
  },
  {
   "cell_type": "code",
   "execution_count": 42,
   "metadata": {},
   "outputs": [
    {
     "name": "stdout",
     "output_type": "stream",
     "text": [
      "Prediction for the input data: 8000.0\n"
     ]
    }
   ],
   "source": [
    "\n",
    "with open('/decision_tree_regressor.pkl', 'rb') as f:\n",
    "    model = pickle.load(f)\n",
    "    \n",
    "input_data = pd.DataFrame([[0, 0,309,31.0,7,1977,10,12,1990,1]], \n",
    "                          columns=['town', 'flat_type', 'block',\n",
    "                                   'floor_area_sqm', 'flat_model', 'lease_commence_date',\n",
    "                                    'storey_start', 'storey_end', 'reg_year', 'reg_month'])\n",
    "predict = decision_tree_regressor.predict(input_data)\n",
    "\n",
    "print(f\"Prediction for the input data: {predict[0]}\")"
   ]
  }
 ],
 "metadata": {
  "kernelspec": {
   "display_name": "Python 3",
   "language": "python",
   "name": "python3"
  },
  "language_info": {
   "codemirror_mode": {
    "name": "ipython",
    "version": 3
   },
   "file_extension": ".py",
   "mimetype": "text/x-python",
   "name": "python",
   "nbconvert_exporter": "python",
   "pygments_lexer": "ipython3",
   "version": "3.11.5"
  }
 },
 "nbformat": 4,
 "nbformat_minor": 2
}
